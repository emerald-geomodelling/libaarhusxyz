{
 "cells": [
  {
   "cell_type": "code",
   "execution_count": 8,
   "id": "902715c5",
   "metadata": {},
   "outputs": [],
   "source": [
    "import libaarhusxyz\n",
    "import downfile\n",
    "import os.path"
   ]
  },
  {
   "cell_type": "code",
   "execution_count": 18,
   "id": "c5b4332e",
   "metadata": {},
   "outputs": [],
   "source": [
    "basepath = \"../examples-secret/oldwb\""
   ]
  },
  {
   "cell_type": "code",
   "execution_count": 20,
   "id": "d8e9ef14",
   "metadata": {},
   "outputs": [
    {
     "name": "stdout",
     "output_type": "stream",
     "text": [
      "../examples-secret/oldwb/NVE20210916_1_AVG_export_example_averagde_data_export_oldWB.xyz\n",
      "../examples-secret/oldwb/SCI_1_Pro3_MOD_inv_example_SCI_inversion_export_oldWB.xyz\n",
      "../examples-secret/oldwb/SCI_1_Pro3_MOD_dat_example_SCI_inversion_export_oldWB.xyz\n",
      "../examples-secret/oldwb/NVE20210916_1_RAW_export_example_averagde_data_export_oldWB.xyz\n",
      "../examples-secret/oldwb/SCI_1_Pro3_MOD_syn_example_SCI_inversion_export_oldWB.xyz\n"
     ]
    }
   ],
   "source": [
    "for pathxyz in os.listdir(basepath):\n",
    "    if not pathxyz.endswith(\"xyz\"): continue\n",
    "    pathxyz = os.path.join(basepath, pathxyz)\n",
    "    print(pathxyz)\n",
    "    data=libaarhusxyz.XYZ(pathxyz)\n",
    "    pathdown = os.path.splitext(pathxyz)[0] + \".orig.down\"\n",
    "    downfile.dump(data.model_dict, pathdown)"
   ]
  }
 ],
 "metadata": {
  "kernelspec": {
   "display_name": "libaarhusxyz",
   "language": "python",
   "name": "libaarhusxyz"
  },
  "language_info": {
   "codemirror_mode": {
    "name": "ipython",
    "version": 3
   },
   "file_extension": ".py",
   "mimetype": "text/x-python",
   "name": "python",
   "nbconvert_exporter": "python",
   "pygments_lexer": "ipython3",
   "version": "3.9.12"
  }
 },
 "nbformat": 4,
 "nbformat_minor": 5
}
