{
 "cells": [
  {
   "cell_type": "code",
   "execution_count": 11,
   "id": "d8f4dc31",
   "metadata": {},
   "outputs": [],
   "source": [
    "import libaarhusxyz\n",
    "import downfile\n",
    "import os.path\n",
    "import pandas as pd\n",
    "import numpy as np\n",
    "import re"
   ]
  },
  {
   "cell_type": "code",
   "execution_count": 2,
   "id": "216c22be",
   "metadata": {},
   "outputs": [],
   "source": [
    "basepath = \"../examples-secret/oldwb\""
   ]
  },
  {
   "cell_type": "code",
   "execution_count": 3,
   "id": "9833bec2",
   "metadata": {},
   "outputs": [
    {
     "name": "stdout",
     "output_type": "stream",
     "text": [
      "../examples-secret/oldwb/NVE20210916_1_AVG_export_example_averagde_data_export_oldWB.xyz\n",
      "../examples-secret/oldwb/SCI_1_Pro3_MOD_inv_example_SCI_inversion_export_oldWB.xyz\n",
      "../examples-secret/oldwb/SCI_1_Pro3_MOD_dat_example_SCI_inversion_export_oldWB.xyz\n",
      "../examples-secret/oldwb/NVE20210916_1_RAW_export_example_averagde_data_export_oldWB.xyz\n",
      "../examples-secret/oldwb/SCI_1_Pro3_MOD_syn_example_SCI_inversion_export_oldWB.xyz\n"
     ]
    }
   ],
   "source": [
    "old = {}\n",
    "new = {}\n",
    "for pathxyz in os.listdir(basepath):\n",
    "    if not pathxyz.endswith(\"xyz\"): continue\n",
    "    pathxyz = os.path.join(basepath, pathxyz)\n",
    "    print(pathxyz)\n",
    "    new[pathxyz] = libaarhusxyz.XYZ(pathxyz).model_dict\n",
    "    pathdown = os.path.splitext(pathxyz)[0] + \".orig.down\"\n",
    "    old[pathxyz] = downfile.parse(pathdown)"
   ]
  },
  {
   "cell_type": "code",
   "execution_count": 4,
   "id": "aca1f454",
   "metadata": {},
   "outputs": [],
   "source": [
    "class Difference(object):\n",
    "    def __init__(self, path, diff, a, b):\n",
    "        self.path = path\n",
    "        self.diff = diff\n",
    "        self.a = a\n",
    "        self.b = b\n",
    "    def __str__(self):\n",
    "        return \"%s: %s %s %s\" % (\".\".join([str(i) for i in self.path]), self.a, self.diff, self.b)\n",
    "        \n",
    "def compare(a, b, path= []):\n",
    "    at = type(a)\n",
    "    bt = type(b)\n",
    "    if at is not bt:\n",
    "        yield Difference(path, \"not same type as\", at, bt); return\n",
    "    \n",
    "    if isinstance(a, dict):\n",
    "        ak = set(a.keys())\n",
    "        bk = set(b.keys())\n",
    "        mbk = ak - bk\n",
    "        mak = bk - ak\n",
    "        if mbk:\n",
    "            yield Difference(path, \"missing in\", mbk, \"b\")\n",
    "        if mak:\n",
    "            yield Difference(path, \"missing in\", mak, \"a\")            \n",
    "        for key in ak.intersection(bk):\n",
    "            for diff in compare(a[key], b[key], path + [key]):\n",
    "                yield diff\n",
    "    elif isinstance(a, list):\n",
    "        if len(a) != len(b):\n",
    "            yield Difference(path, \"not same length\", len(a), len(b))\n",
    "        for idx, (ai, bi) in enumerate(zip(a, b)):\n",
    "            for diff in compare(ai, bi, path + [idx]):\n",
    "                yield diff\n",
    "    elif isinstance(a, (pd.Index, pd.Series)):\n",
    "        if len(a) != len(b):\n",
    "            yield Difference(path, \"not same length\", len(a), len(b))\n",
    "        sa = set(a)\n",
    "        sb = set(b)\n",
    "        msb = sa - sb\n",
    "        msa = sb - sa\n",
    "        if msb:\n",
    "            yield Difference(path, \"missing in\", msb, \"b\")\n",
    "        if msa:\n",
    "            yield Difference(path, \"missing in\", msa, \"a\")     \n",
    "    elif isinstance(a, pd.DataFrame):\n",
    "        for diff in compare(a.columns, b.columns, path+[\"columns\"]):\n",
    "            yield diff\n",
    "        for diff in compare(a.index, b.index, path+[\"columns\"]):\n",
    "            yield diff\n",
    "        for col in set(a.columns).intersection(b.columns):\n",
    "            merged = a.loc[\n",
    "                a.index.isin(b.index), [col]\n",
    "            ].rename(\n",
    "                columns={col: \"a\"}\n",
    "            ).join(\n",
    "                b.loc[b.index.isin(a.index), [col]].rename(\n",
    "                columns={col: \"b\"}\n",
    "            ))\n",
    "            merged = merged.loc[merged.a != merged.b]\n",
    "            \n",
    "            for diff in compare(merged.a, merged.b, path + [col]):\n",
    "                yield diff\n",
    "    else:\n",
    "        if a != b:\n",
    "            yield Difference(path, \"!=\", a, b)    "
   ]
  },
  {
   "cell_type": "code",
   "execution_count": 5,
   "id": "dd186729",
   "metadata": {},
   "outputs": [
    {
     "name": "stdout",
     "output_type": "stream",
     "text": [
      "../examples-secret/oldwb/NVE20210916_1_AVG_export_example_averagde_data_export_oldWB.xyz\n",
      "../examples-secret/oldwb/SCI_1_Pro3_MOD_inv_example_SCI_inversion_export_oldWB.xyz\n",
      "../examples-secret/oldwb/SCI_1_Pro3_MOD_dat_example_SCI_inversion_export_oldWB.xyz\n",
      "../examples-secret/oldwb/NVE20210916_1_RAW_export_example_averagde_data_export_oldWB.xyz\n",
      "../examples-secret/oldwb/SCI_1_Pro3_MOD_syn_example_SCI_inversion_export_oldWB.xyz\n"
     ]
    }
   ],
   "source": [
    "for key in old.keys():\n",
    "    print(key)\n",
    "    for idx, diff in enumerate(compare(old[key], new[key])):\n",
    "        print(\"     \" + str(diff))\n",
    "        if idx > 100:\n",
    "            print(\"Too many errors...\")\n",
    "            break\n"
   ]
  },
  {
   "cell_type": "code",
   "execution_count": 7,
   "id": "72f52599",
   "metadata": {},
   "outputs": [
    {
     "data": {
      "text/plain": [
       "dict_keys(['../examples-secret/oldwb/NVE20210916_1_AVG_export_example_averagde_data_export_oldWB.xyz', '../examples-secret/oldwb/SCI_1_Pro3_MOD_inv_example_SCI_inversion_export_oldWB.xyz', '../examples-secret/oldwb/SCI_1_Pro3_MOD_dat_example_SCI_inversion_export_oldWB.xyz', '../examples-secret/oldwb/NVE20210916_1_RAW_export_example_averagde_data_export_oldWB.xyz', '../examples-secret/oldwb/SCI_1_Pro3_MOD_syn_example_SCI_inversion_export_oldWB.xyz'])"
      ]
     },
     "execution_count": 7,
     "metadata": {},
     "output_type": "execute_result"
    }
   ],
   "source": [
    "old.keys()"
   ]
  },
  {
   "cell_type": "code",
   "execution_count": 9,
   "id": "4f0ecccd",
   "metadata": {},
   "outputs": [
    {
     "data": {
      "text/plain": [
       "RangeIndex(start=0, stop=10023, step=1)"
      ]
     },
     "execution_count": 9,
     "metadata": {},
     "output_type": "execute_result"
    }
   ],
   "source": [
    "old['../examples-secret/oldwb/NVE20210916_1_AVG_export_example_averagde_data_export_oldWB.xyz'][\"flightlines\"].index"
   ]
  },
  {
   "cell_type": "code",
   "execution_count": 10,
   "id": "81b3365c",
   "metadata": {},
   "outputs": [
    {
     "data": {
      "text/plain": [
       "Int64Index([    0,     1,     2,     3,     4,     5,     6,     7,     8,\n",
       "                9,\n",
       "            ...\n",
       "            10013, 10014, 10015, 10016, 10017, 10018, 10019, 10020, 10021,\n",
       "            10022],\n",
       "           dtype='int64', length=10023)"
      ]
     },
     "execution_count": 10,
     "metadata": {},
     "output_type": "execute_result"
    }
   ],
   "source": [
    "new['../examples-secret/oldwb/NVE20210916_1_AVG_export_example_averagde_data_export_oldWB.xyz'][\"flightlines\"].index"
   ]
  },
  {
   "cell_type": "code",
   "execution_count": 5,
   "id": "39d8c393",
   "metadata": {},
   "outputs": [],
   "source": [
    "# x =  pd.DataFrame({\"a\": [1, 2, 3.4, \"hej\", \"mumu\", \"hehe\"]})\n",
    "x =  pd.DataFrame({\"a\": [1, 2, 3.4]})\n"
   ]
  },
  {
   "cell_type": "code",
   "execution_count": 6,
   "id": "823886cf",
   "metadata": {},
   "outputs": [
    {
     "ename": "AttributeError",
     "evalue": "Can only use .str accessor with string values!",
     "output_type": "error",
     "traceback": [
      "\u001b[0;31m---------------------------------------------------------------------------\u001b[0m",
      "\u001b[0;31mAttributeError\u001b[0m                            Traceback (most recent call last)",
      "Cell \u001b[0;32mIn [6], line 1\u001b[0m\n\u001b[0;32m----> 1\u001b[0m \u001b[43mx\u001b[49m\u001b[38;5;241;43m.\u001b[39;49m\u001b[43ma\u001b[49m\u001b[38;5;241;43m.\u001b[39;49m\u001b[43mastype\u001b[49m\u001b[43m(\u001b[49m\u001b[38;5;124;43m\"\u001b[39;49m\u001b[38;5;124;43mO\u001b[39;49m\u001b[38;5;124;43m\"\u001b[39;49m\u001b[43m)\u001b[49m\u001b[38;5;241;43m.\u001b[39;49m\u001b[43mstr\u001b[49m\u001b[38;5;241m.\u001b[39mmatch(\u001b[38;5;124mr\u001b[39m\u001b[38;5;124m\"\u001b[39m\u001b[38;5;124m^he.*\u001b[39m\u001b[38;5;124m\"\u001b[39m)\n",
      "File \u001b[0;32m~/Projects/Emerald/libaarhusxyz/env/lib/python3.9/site-packages/pandas/core/generic.py:5907\u001b[0m, in \u001b[0;36mNDFrame.__getattr__\u001b[0;34m(self, name)\u001b[0m\n\u001b[1;32m   5900\u001b[0m \u001b[38;5;28;01mif\u001b[39;00m (\n\u001b[1;32m   5901\u001b[0m     name \u001b[38;5;129;01mnot\u001b[39;00m \u001b[38;5;129;01min\u001b[39;00m \u001b[38;5;28mself\u001b[39m\u001b[38;5;241m.\u001b[39m_internal_names_set\n\u001b[1;32m   5902\u001b[0m     \u001b[38;5;129;01mand\u001b[39;00m name \u001b[38;5;129;01mnot\u001b[39;00m \u001b[38;5;129;01min\u001b[39;00m \u001b[38;5;28mself\u001b[39m\u001b[38;5;241m.\u001b[39m_metadata\n\u001b[1;32m   5903\u001b[0m     \u001b[38;5;129;01mand\u001b[39;00m name \u001b[38;5;129;01mnot\u001b[39;00m \u001b[38;5;129;01min\u001b[39;00m \u001b[38;5;28mself\u001b[39m\u001b[38;5;241m.\u001b[39m_accessors\n\u001b[1;32m   5904\u001b[0m     \u001b[38;5;129;01mand\u001b[39;00m \u001b[38;5;28mself\u001b[39m\u001b[38;5;241m.\u001b[39m_info_axis\u001b[38;5;241m.\u001b[39m_can_hold_identifiers_and_holds_name(name)\n\u001b[1;32m   5905\u001b[0m ):\n\u001b[1;32m   5906\u001b[0m     \u001b[38;5;28;01mreturn\u001b[39;00m \u001b[38;5;28mself\u001b[39m[name]\n\u001b[0;32m-> 5907\u001b[0m \u001b[38;5;28;01mreturn\u001b[39;00m \u001b[38;5;28;43mobject\u001b[39;49m\u001b[38;5;241;43m.\u001b[39;49m\u001b[38;5;21;43m__getattribute__\u001b[39;49m\u001b[43m(\u001b[49m\u001b[38;5;28;43mself\u001b[39;49m\u001b[43m,\u001b[49m\u001b[43m \u001b[49m\u001b[43mname\u001b[49m\u001b[43m)\u001b[49m\n",
      "File \u001b[0;32m~/Projects/Emerald/libaarhusxyz/env/lib/python3.9/site-packages/pandas/core/accessor.py:183\u001b[0m, in \u001b[0;36mCachedAccessor.__get__\u001b[0;34m(self, obj, cls)\u001b[0m\n\u001b[1;32m    180\u001b[0m \u001b[38;5;28;01mif\u001b[39;00m obj \u001b[38;5;129;01mis\u001b[39;00m \u001b[38;5;28;01mNone\u001b[39;00m:\n\u001b[1;32m    181\u001b[0m     \u001b[38;5;66;03m# we're accessing the attribute of the class, i.e., Dataset.geo\u001b[39;00m\n\u001b[1;32m    182\u001b[0m     \u001b[38;5;28;01mreturn\u001b[39;00m \u001b[38;5;28mself\u001b[39m\u001b[38;5;241m.\u001b[39m_accessor\n\u001b[0;32m--> 183\u001b[0m accessor_obj \u001b[38;5;241m=\u001b[39m \u001b[38;5;28;43mself\u001b[39;49m\u001b[38;5;241;43m.\u001b[39;49m\u001b[43m_accessor\u001b[49m\u001b[43m(\u001b[49m\u001b[43mobj\u001b[49m\u001b[43m)\u001b[49m\n\u001b[1;32m    184\u001b[0m \u001b[38;5;66;03m# Replace the property with the accessor object. Inspired by:\u001b[39;00m\n\u001b[1;32m    185\u001b[0m \u001b[38;5;66;03m# https://www.pydanny.com/cached-property.html\u001b[39;00m\n\u001b[1;32m    186\u001b[0m \u001b[38;5;66;03m# We need to use object.__setattr__ because we overwrite __setattr__ on\u001b[39;00m\n\u001b[1;32m    187\u001b[0m \u001b[38;5;66;03m# NDFrame\u001b[39;00m\n\u001b[1;32m    188\u001b[0m \u001b[38;5;28mobject\u001b[39m\u001b[38;5;241m.\u001b[39m\u001b[38;5;21m__setattr__\u001b[39m(obj, \u001b[38;5;28mself\u001b[39m\u001b[38;5;241m.\u001b[39m_name, accessor_obj)\n",
      "File \u001b[0;32m~/Projects/Emerald/libaarhusxyz/env/lib/python3.9/site-packages/pandas/core/strings/accessor.py:182\u001b[0m, in \u001b[0;36mStringMethods.__init__\u001b[0;34m(self, data)\u001b[0m\n\u001b[1;32m    179\u001b[0m \u001b[38;5;28;01mdef\u001b[39;00m \u001b[38;5;21m__init__\u001b[39m(\u001b[38;5;28mself\u001b[39m, data) \u001b[38;5;241m-\u001b[39m\u001b[38;5;241m>\u001b[39m \u001b[38;5;28;01mNone\u001b[39;00m:\n\u001b[1;32m    180\u001b[0m     \u001b[38;5;28;01mfrom\u001b[39;00m \u001b[38;5;21;01mpandas\u001b[39;00m\u001b[38;5;21;01m.\u001b[39;00m\u001b[38;5;21;01mcore\u001b[39;00m\u001b[38;5;21;01m.\u001b[39;00m\u001b[38;5;21;01marrays\u001b[39;00m\u001b[38;5;21;01m.\u001b[39;00m\u001b[38;5;21;01mstring_\u001b[39;00m \u001b[38;5;28;01mimport\u001b[39;00m StringDtype\n\u001b[0;32m--> 182\u001b[0m     \u001b[38;5;28mself\u001b[39m\u001b[38;5;241m.\u001b[39m_inferred_dtype \u001b[38;5;241m=\u001b[39m \u001b[38;5;28;43mself\u001b[39;49m\u001b[38;5;241;43m.\u001b[39;49m\u001b[43m_validate\u001b[49m\u001b[43m(\u001b[49m\u001b[43mdata\u001b[49m\u001b[43m)\u001b[49m\n\u001b[1;32m    183\u001b[0m     \u001b[38;5;28mself\u001b[39m\u001b[38;5;241m.\u001b[39m_is_categorical \u001b[38;5;241m=\u001b[39m is_categorical_dtype(data\u001b[38;5;241m.\u001b[39mdtype)\n\u001b[1;32m    184\u001b[0m     \u001b[38;5;28mself\u001b[39m\u001b[38;5;241m.\u001b[39m_is_string \u001b[38;5;241m=\u001b[39m \u001b[38;5;28misinstance\u001b[39m(data\u001b[38;5;241m.\u001b[39mdtype, StringDtype)\n",
      "File \u001b[0;32m~/Projects/Emerald/libaarhusxyz/env/lib/python3.9/site-packages/pandas/core/strings/accessor.py:236\u001b[0m, in \u001b[0;36mStringMethods._validate\u001b[0;34m(data)\u001b[0m\n\u001b[1;32m    233\u001b[0m inferred_dtype \u001b[38;5;241m=\u001b[39m lib\u001b[38;5;241m.\u001b[39minfer_dtype(values, skipna\u001b[38;5;241m=\u001b[39m\u001b[38;5;28;01mTrue\u001b[39;00m)\n\u001b[1;32m    235\u001b[0m \u001b[38;5;28;01mif\u001b[39;00m inferred_dtype \u001b[38;5;129;01mnot\u001b[39;00m \u001b[38;5;129;01min\u001b[39;00m allowed_types:\n\u001b[0;32m--> 236\u001b[0m     \u001b[38;5;28;01mraise\u001b[39;00m \u001b[38;5;167;01mAttributeError\u001b[39;00m(\u001b[38;5;124m\"\u001b[39m\u001b[38;5;124mCan only use .str accessor with string values!\u001b[39m\u001b[38;5;124m\"\u001b[39m)\n\u001b[1;32m    237\u001b[0m \u001b[38;5;28;01mreturn\u001b[39;00m inferred_dtype\n",
      "\u001b[0;31mAttributeError\u001b[0m: Can only use .str accessor with string values!"
     ]
    }
   ],
   "source": [
    "x.a.astype(\"O\").str.match(r\"^he.*\")"
   ]
  },
  {
   "cell_type": "code",
   "execution_count": null,
   "id": "dc2df3a4",
   "metadata": {},
   "outputs": [],
   "source": []
  },
  {
   "cell_type": "code",
   "execution_count": null,
   "id": "f4211f93",
   "metadata": {},
   "outputs": [],
   "source": []
  },
  {
   "cell_type": "code",
   "execution_count": null,
   "id": "b6442b72",
   "metadata": {},
   "outputs": [],
   "source": []
  },
  {
   "cell_type": "code",
   "execution_count": 5,
   "id": "3b76c0cd",
   "metadata": {},
   "outputs": [],
   "source": [
    "basedir = \"../examples-secret/newclean\""
   ]
  },
  {
   "cell_type": "code",
   "execution_count": 31,
   "id": "afe1c681",
   "metadata": {},
   "outputs": [
    {
     "name": "stdout",
     "output_type": "stream",
     "text": [
      "../examples-secret/newclean/aarhus_workbench.5.9.4.0/1116_1_pro_AVG_export.xyz\n",
      "../examples-secret/newclean/aarhus_workbench.5.9.4.0/1116_1_pro_I08_MOD_dat.xyz\n",
      "../examples-secret/newclean/aarhus_workbench.5.9.4.0/1116_1_pro_I08_MOD_inv.xyz\n",
      "../examples-secret/newclean/aarhus_workbench.5.9.4.0/1116_1_pro_I08_MOD_syn.xyz\n",
      "../examples-secret/newclean/aarhus_workbench.6.2.1.0/02_2_AVG_export.xyz\n",
      "../examples-secret/newclean/aarhus_workbench.6.0.1.1/CL_P20161207_SRM_UTM12_MOD_dat.xyz\n",
      "../examples-secret/newclean/aarhus_workbench.6.0.1.1/CL_P20161207_SRM_UTM12_MOD_inv.xyz\n",
      "../examples-secret/newclean/aarhus_workbench.6.0.1.1/CL_P20161207_SRM_UTM12_MOD_syn.xyz\n",
      "../examples-secret/newclean/aarhus_workbench.6.1.0.0/1010_revisit_I01_MOD_dat.xyz\n",
      "../examples-secret/newclean/aarhus_workbench.6.1.0.0/1010_revisit_pronode_AVG_export.xyz\n",
      "../examples-secret/newclean/aarhus_workbench.6.1.0.0/1010_revisit_I01_MOD_inv.xyz\n",
      "../examples-secret/newclean/aarhus_workbench.6.1.0.0/1010_revisit_I01_MOD_syn.xyz\n",
      "../examples-secret/newclean/aarhus_workbench.6.1.0.0/Yellowstone_CalderaLines_SkyTEM WB 6.1.0.0/BRB_P20161207_1_average_AVG_export.xyz\n"
     ]
    }
   ],
   "source": [
    "for dirpath, dirnames, filenames in os.walk(basedir):\n",
    "    for name in filenames:\n",
    "        if not name.endswith(\"xyz\"): continue\n",
    "\n",
    "        path = os.path.join(dirpath, name)\n",
    "        print(path)\n",
    "        with open(path) as f:\n",
    "            d = f.read()\n",
    "\n",
    "        o = []\n",
    "        last = 0\n",
    "        for m in re.finditer(r\"(\\s|^)(?P<number>[0-9+-]\\.[0-9E+-]+)($|\\s)\", d):\n",
    "            s = m.start(\"number\")\n",
    "            o.append(d[last:s])\n",
    "            o.append(('%.3E' % (np.random.random() * 2 * float(m[\"number\"]))).upper())\n",
    "            last = m.end(\"number\")\n",
    "        o.append(d[last:])\n",
    "        o = \"\".join(o)\n",
    "        \n",
    "        o = re.sub(r\"[A-Z]:\\\\[^\\s]+\", r\"G:\\\\Test - 1\", o)\n",
    "\n",
    "        with open(path, \"w\") as f:\n",
    "            f.write(o)\n"
   ]
  },
  {
   "cell_type": "code",
   "execution_count": 34,
   "id": "55fad51b",
   "metadata": {},
   "outputs": [],
   "source": [
    "import re"
   ]
  },
  {
   "cell_type": "code",
   "execution_count": 56,
   "id": "65e22637",
   "metadata": {},
   "outputs": [],
   "source": [
    "o = []\n",
    "last = 0\n",
    "for m in re.finditer(r\"(\\s|^)(?P<number>[0-9+-]\\.[0-9E+-]+)($|\\s)\", d):\n",
    "    s = m.start(\"number\")\n",
    "    o.append(d[last:s])\n",
    "    o.append(('%.3E' % (np.random.random() * 2 * float(m[\"number\"]))).upper())\n",
    "    last = m.end(\"number\")\n",
    "o.append(d[last:])\n",
    "o = \"\".join(o)"
   ]
  },
  {
   "cell_type": "code",
   "execution_count": 57,
   "id": "37c748b2",
   "metadata": {},
   "outputs": [
    {
     "name": "stdout",
     "output_type": "stream",
     "text": [
      "/INFO\n",
      "/Aarhus Workbench export file. File created: 07-10-2022 15:16:02. Exported from Workbench64. User: emeraldgeomodelling\n",
      "/WB VERSION\n",
      "/6.6.0.2\n",
      "/WORKSPACE NAME\n",
      "/G:\\Test - 1\\\n",
      "/NODE NAME(S)\n",
      "/NVE\n",
      "/DUMMY\n",
      "/9999\n",
      "/DATA UNIT\n",
      "/dB/dt [V/Am^4]\n",
      "/DATA TYPE\n",
      "/DTSKYTEM2\n",
      "/COORDINATE SYSTEM\n",
      "/WGS 84 UTM zone 32N (epsg:32632)\n",
      "/NUMBER OF GATES\n",
      "/Number of gates for channel 1 is 24\n",
      "/Number of gates for channel 2 is 32\n",
      "/GATE TIMES (s)\n",
      "/Gates for channel 1 : 1.788E-07 4.350E-07 3.707E-06 4.435E-06 3.326E-06 8.440E-06 6.068E-06 1.294E-05 2.167E-05 2.093E-05 3.096E-05 3.344E-05 9.958E-06 5.393E-05 1.043E-04 8.643E-05 6.576E-05 1.369E-04 3.436E-04 2.179E-04 2.707E-04 3.469E-04 3.339E-04 5.519E-04 \n",
      "/Gates for channel 2 : 3.030E-05 3.044E-05 6.328E-05 3.443E-05 4.666E-05 3.844E-05 3.012E-05 4.294E-05 3.847E-05 5.093E-05 1.014E-04 6.344E-05 9.022E-05 8.393E-05 5.310E-05 1.164E-04 1.155E-04 1.669E-04 9.882E-05 2.479E-04 1.841E-04 3.769E-04 6.550E-04 5.819E-04 1.294E-03 9.074E-04 1.502E-04 1.424E-03 1.217E-03 2.247E-03 3.609E-03 3.544E-03 \n",
      "/         TIMESTAMP  LINE_NO      UTMX       UTMY  ELEVATION  CHANNEL_NO  RX_ALTITUDE  RX_ALTITUDE_STD  TX_ALTITUDE  TX_ALTITUDE_STD  TILT_X  TILT_X_STD  TILT_Y  TILT_Y_STD  FIELDPOLARITY  CURRENT  TX_AREA  NUMGATES  DBDT_Ch1GT1  DBDT_Ch1GT2  DBDT_Ch1GT3  DBDT_Ch1GT4  DBDT_Ch1GT5  DBDT_Ch1GT6  DBDT_Ch1GT7  DBDT_Ch1GT8  DBDT_Ch1GT9  DBDT_Ch1GT10  DBDT_Ch1GT11  DBDT_Ch1GT12  DBDT_Ch1GT13  DBDT_Ch1GT14  DBDT_Ch1GT15  DBDT_Ch1GT16  DBDT_Ch1GT17  DBDT_Ch1GT18  DBDT_Ch1GT19  DBDT_Ch1GT20  DBDT_Ch1GT21  DBDT_Ch1GT22  DBDT_Ch1GT23  DBDT_Ch1GT24  DBDT_Ch2GT1  DBDT_Ch2GT2  DBDT_Ch2GT3  DBDT_Ch2GT4  DBDT_Ch2GT5  DBDT_Ch2GT6  DBDT_Ch2GT7  DBDT_Ch2GT8  DBDT_Ch2GT9  DBDT_Ch2GT10  DBDT_Ch2GT11  DBDT_Ch2GT12  DBDT_Ch2GT13  DBDT_Ch2GT14  DBDT_Ch2GT15  DBDT_Ch2GT16  DBDT_Ch2GT17  DBDT_Ch2GT18  DBDT_Ch2GT19  DBDT_Ch2GT20  DBDT_Ch2GT21  DBDT_Ch2GT22  DBDT_Ch2GT23  DBDT_Ch2GT24  DBDT_Ch2GT25  DBDT_Ch2GT26  DBDT_Ch2GT27  DBDT_Ch2GT28  DBDT_Ch2GT29  DBDT_Ch2GT30  DBDT_Ch2GT31  DBDT_Ch2GT32  DBDT_STD_Ch1GT1  DBDT_STD_Ch1GT2  DBDT_STD_Ch1GT3  DBDT_STD_Ch1GT4  DBDT_STD_Ch1GT5  DBDT_STD_Ch1GT6  DBDT_STD_Ch1GT7  DBDT_STD_Ch1GT8  DBDT_STD_Ch1GT9  DBDT_STD_Ch1GT10  DBDT_STD_Ch1GT11  DBDT_STD_Ch1GT12  DBDT_STD_Ch1GT13  DBDT_STD_Ch1GT14  DBDT_STD_Ch1GT15  DBDT_STD_Ch1GT16  DBDT_STD_Ch1GT17  DBDT_STD_Ch1GT18  DBDT_STD_Ch1GT19  DBDT_STD_Ch1GT20  DBDT_STD_Ch1GT21  DBDT_STD_Ch1GT22  DBDT_STD_Ch1GT23  DBDT_STD_Ch1GT24  DBDT_STD_Ch2GT1  DBDT_STD_Ch2GT2  DBDT_STD_Ch2GT3  DBDT_STD_Ch2GT4  DBDT_STD_Ch2GT5  DBDT_STD_Ch2GT6  DBDT_STD_Ch2GT7  DBDT_STD_Ch2GT8  DBDT_STD_Ch2GT9  DBDT_STD_Ch2GT10  DBDT_STD_Ch2GT11  DBDT_STD_Ch2GT12  DBDT_STD_Ch2GT13  DBDT_STD_Ch2GT14  DBDT_STD_Ch2GT15  DBDT_STD_Ch2GT16  DBDT_STD_Ch2GT17  DBDT_STD_Ch2GT18  DBDT_STD_Ch2GT19  DBDT_STD_Ch2GT20  DBDT_STD_Ch2GT21  DBDT_STD_Ch2GT22  DBDT_STD_Ch2GT23  DBDT_STD_Ch2GT24  DBDT_STD_Ch2GT25  DBDT_STD_Ch2GT26  DBDT_STD_Ch2GT27  DBDT_STD_Ch2GT28  DBDT_STD_Ch2GT29  DBDT_STD_Ch2GT30  DBDT_STD_Ch2GT31  DBDT_STD_Ch2GT32  DBDT_INUSE_Ch1GT1  DBDT_INUSE_Ch1GT2  DBDT_INUSE_Ch1GT3  DBDT_INUSE_Ch1GT4  DBDT_INUSE_Ch1GT5  DBDT_INUSE_Ch1GT6  DBDT_INUSE_Ch1GT7  DBDT_INUSE_Ch1GT8  DBDT_INUSE_Ch1GT9  DBDT_INUSE_Ch1GT10  DBDT_INUSE_Ch1GT11  DBDT_INUSE_Ch1GT12  DBDT_INUSE_Ch1GT13  DBDT_INUSE_Ch1GT14  DBDT_INUSE_Ch1GT15  DBDT_INUSE_Ch1GT16  DBDT_INUSE_Ch1GT17  DBDT_INUSE_Ch1GT18  DBDT_INUSE_Ch1GT19  DBDT_INUSE_Ch1GT20  DBDT_INUSE_Ch1GT21  DBDT_INUSE_Ch1GT22  DBDT_INUSE_Ch1GT23  DBDT_INUSE_Ch1GT24  DBDT_INUSE_Ch2GT1  DBDT_INUSE_Ch2GT2  DBDT_INUSE_Ch2GT3  DBDT_INUSE_Ch2GT4  DBDT_INUSE_Ch2GT5  DBDT_INUSE_Ch2GT6  DBDT_INUSE_Ch2GT7  DBDT_INUSE_Ch2GT8  DBDT_INUSE_Ch2GT9  DBDT_INUSE_Ch2GT10  DBDT_INUSE_Ch2GT11  DBDT_INUSE_Ch2GT12  DBDT_INUSE_Ch2GT13  DBDT_INUSE_Ch2GT14  DBDT_INUSE_Ch2GT15  DBDT_INUSE_Ch2GT16  DBDT_INUSE_Ch2GT17  DBDT_INUSE_Ch2GT18  DBDT_INUSE_Ch2GT19  DBDT_INUSE_Ch2GT20  DBDT_INUSE_Ch2GT21  DBDT_INUSE_Ch2GT22  DBDT_INUSE_Ch2GT23  DBDT_INUSE_Ch2GT24  DBDT_INUSE_Ch2GT25  DBDT_INUSE_Ch2GT26  DBDT_INUSE_Ch2GT27  DBDT_INUSE_Ch2GT28  DBDT_INUSE_Ch2GT29  DBDT_INUSE_Ch2GT30  DBDT_INUSE_Ch2GT31  DBDT_INUSE_Ch2GT32\n",
      "  8.611E+04   106301  614447.8    6676462     193.52           1           48            9.653E-02        45.23            1.292E-01   273.4       1.440E+00   268.8       1.315E+00              3      8.242E+00      342        19         9999         9999         9999         9999         9999    4.633E-09    1.868E-09    2.837E-09    3.524E-10     8.300E-10     1.061E-09     9.366E-11     2.317E-10     9.417E-11     1.922E-10     1.188E-10     9.021E-11     9.277E-12     1.260E-11     2.047E-11     5.879E-12     5.161E-12    -1.346E-12     5.201E-12         9999         9999         9999         9999         9999         9999         9999         9999         9999          9999          9999          9999          9999          9999          9999          9999          9999          9999          9999          9999          9999          9999          9999          9999          9999          9999          9999          9999          9999          9999          9999          9999             9999             9999             9999             9999             9999        4.463E-03        2.042E-02        2.289E-02        9.693E-03         4.332E-02         4.043E-02         4.746E-03         1.478E-02         2.218E-02         3.497E-02         6.010E-02         2.725E-02         3.989E-02         2.536E-01         1.681E+00         1.367E-01         2.864E-01         2.098E-01         5.869E-02             9999             9999             9999             9999             9999             9999             9999             9999             9999              9999              9999              9999              9999              9999              9999              9999              9999              9999              9999              9999              9999              9999              9999              9999              9999              9999              9999              9999              9999              9999              9999              9999               9999               9999               9999               9999               9999                  1                  1                  1                  1                   1                   1                   1                   1                   1                   1                   0                   0                   0                   0                   0                   0                   0                   0                   0               9999               9999               9999               9999               9999               9999               9999               9999               9999                9999                9999                9999                9999                9999                9999                9999                9999                9999                9999                9999                9999                9999                9999                9999                9999                9999                9999                9999                9999                9999                9999                9999\n",
      "  1.502E+04   106301  614447.8    6676462     193.52           2        47.72            2.192E-02         44.9            4.058E-02   273.4       1.200E+00   268.8       1.629E-01              3    112.5      342        16         9999         9999         9999         9999         9999         9999         9999         9999         9999          9999          9999          9999          9999          9999          9999          9999          9999          9999          9999          9999          9999          9999          9999          9999         9999         9999         9999         9999         9999         9999         9999         9999         9999          9999     3.962E-11     3.398E-10     5.758E-10     1.163E-10     2.347E-10     1.319E-10     9.175E-11     4.616E-11     1.092E-11          9999          9999          9999          9999          9999          9999     3.679E-13     2.471E-14     6.108E-14     9.335E-15    -1.807E-14     6.336E-14     6.119E-14             9999             9999             9999             9999             9999             9999             9999             9999             9999              9999              9999              9999              9999              9999              9999              9999              9999              9999              9999              9999              9999              9999              9999              9999             9999             9999             9999             9999             9999             9999             9999             9999             9999              9999         1.097E-02         2.408E-02         4.651E-02         2.293E-02         2.096E-02         4.512E-02         8.427E-03         2.844E-02         1.594E-02              9999              9999              9999              9999              9999              9999         4.341E-01         4.716E-02         8.994E-02         1.091E+00         8.986E-01         5.075E-01         5.234E-01               9999               9999               9999               9999               9999               9999               9999               9999               9999                9999                9999                9999                9999                9999                9999                9999                9999                9999                9999                9999                9999                9999                9999                9999               9999               9999               9999               9999               9999               9999               9999               9999               9999                9999                   1                   1                   1                   1                   1                   1                   1                   1                   0                9999                9999                9999                9999                9999                9999                   0                   0                   0                   0                   0                   0                   0\n",
      "  3.325E+04   106301  614446.8  6676437.1     196.35           1        47.22            1.207E-01        44.37            2.447E-02   273.6       1.264E-01   269.2       1.588E+00              3      4.086E+00      342        19         9999         9999         9999         9999         9999    7.659E-09    3.017E-09    5.314E-10    1.081E-09     1.472E-09     7.502E-11     9.335E-10     7.155E-10     2.310E-10     1.325E-11     1.787E-10     5.781E-11     1.510E-11     2.603E-11     1.692E-12     1.522E-11    -6.004E-12     3.188E-12     6.984E-12         9999         9999         9999         9999         9999         9999         9999         9999         9999          9999          9999          9999          9999          9999          9999          9999          9999          9999          9999          9999          9999          9999          9999          9999          9999          9999          9999          9999          9999          9999          9999          9999             9999             9999             9999             9999             9999        1.335E-02        1.928E-02        9.859E-03        3.452E-02         5.822E-03         4.123E-02         4.436E-02         5.288E-02         4.748E-02         4.358E-02         2.716E-02         5.383E-02         6.455E-02         1.177E+00         1.463E+00         9.724E-02         1.406E-01         1.422E-02         2.114E-02             9999             9999             9999             9999             9999             9999             9999             9999             9999              9999              9999              9999              9999              9999              9999              9999              9999              9999              9999              9999              9999              9999              9999              9999              9999              9999              9999              9999              9999              9999              9999              9999               9999               9999               9999               9999               9999                  1                  1                  1                  1                   1                   1                   1                   1                   1                   1                   0                   0                   0                   0                   0                   0                   0                   0                   0               9999               9999               9999               9999               9999               9999               9999               9999               9999                9999                9999                9999                9999                9999                9999                9999                9999                9999                9999                9999                9999                9999                9999                9999                9999                9999                9999                9999                9999                9999                9999                9999\n",
      "\n"
     ]
    }
   ],
   "source": [
    "print(o)"
   ]
  },
  {
   "cell_type": "code",
   "execution_count": 50,
   "id": "80f2d120",
   "metadata": {},
   "outputs": [
    {
     "name": "stdout",
     "output_type": "stream",
     "text": [
      "/INFO\n",
      "/Aarhus Workbench export file. File created: 07-10-2022 15:16:02. Exported from Workbench64. User: emeraldgeomodelling\n",
      "/WB VERSION\n",
      "/6.6.0.2\n",
      "/WORKSPACE NAME\n",
      "/G:\\Test - 1\\\n",
      "/NODE NAME(S)\n",
      "/NVE\n",
      "/DUMMY\n",
      "/9999\n",
      "/DATA UNIT\n",
      "/dB/dt [V/Am^4]\n",
      "/DATA TYPE\n",
      "/DTSKYTEM2\n",
      "/COORDINATE SYSTEM\n",
      "/WGS 84 UTM zone 32N (epsg:32632)\n",
      "/NUMBER OF GATES\n",
      "/Number of gates for channel 1 is 24\n",
      "/Number of gates for channel 2 is 32\n",
      "/GATE TIMES (s)\n",
      "/Gates for channel 1 : 1.000E-07 4.350E-07 2.435E-06 4.435E-06 6.435E-06 8.440E-06 1.043E-05 1.294E-05 1.643E-05 2.093E-05 2.643E-05 3.344E-05 4.243E-05 5.393E-05 6.843E-05 8.643E-05 1.089E-04 1.369E-04 1.724E-04 2.179E-04 2.749E-04 3.469E-04 4.379E-04 5.519E-04 \n",
      "/Gates for channel 2 : 2.894E-05 3.044E-05 3.243E-05 3.443E-05 3.643E-05 3.844E-05 4.043E-05 4.294E-05 4.643E-05 5.093E-05 5.643E-05 6.344E-05 7.243E-05 8.393E-05 9.843E-05 1.164E-04 1.389E-04 1.669E-04 2.024E-04 2.479E-04 3.049E-04 3.769E-04 4.679E-04 5.819E-04 7.259E-04 9.074E-04 1.136E-03 1.424E-03 1.788E-03 2.247E-03 2.825E-03 3.544E-03 \n",
      "/         TIMESTAMP  LINE_NO      UTMX       UTMY  ELEVATION  CHANNEL_NO  RX_ALTITUDE  RX_ALTITUDE_STD  TX_ALTITUDE  TX_ALTITUDE_STD  TILT_X  TILT_X_STD  TILT_Y  TILT_Y_STD  FIELDPOLARITY  CURRENT  TX_AREA  NUMGATES  DBDT_Ch1GT1  DBDT_Ch1GT2  DBDT_Ch1GT3  DBDT_Ch1GT4  DBDT_Ch1GT5  DBDT_Ch1GT6  DBDT_Ch1GT7  DBDT_Ch1GT8  DBDT_Ch1GT9  DBDT_Ch1GT10  DBDT_Ch1GT11  DBDT_Ch1GT12  DBDT_Ch1GT13  DBDT_Ch1GT14  DBDT_Ch1GT15  DBDT_Ch1GT16  DBDT_Ch1GT17  DBDT_Ch1GT18  DBDT_Ch1GT19  DBDT_Ch1GT20  DBDT_Ch1GT21  DBDT_Ch1GT22  DBDT_Ch1GT23  DBDT_Ch1GT24  DBDT_Ch2GT1  DBDT_Ch2GT2  DBDT_Ch2GT3  DBDT_Ch2GT4  DBDT_Ch2GT5  DBDT_Ch2GT6  DBDT_Ch2GT7  DBDT_Ch2GT8  DBDT_Ch2GT9  DBDT_Ch2GT10  DBDT_Ch2GT11  DBDT_Ch2GT12  DBDT_Ch2GT13  DBDT_Ch2GT14  DBDT_Ch2GT15  DBDT_Ch2GT16  DBDT_Ch2GT17  DBDT_Ch2GT18  DBDT_Ch2GT19  DBDT_Ch2GT20  DBDT_Ch2GT21  DBDT_Ch2GT22  DBDT_Ch2GT23  DBDT_Ch2GT24  DBDT_Ch2GT25  DBDT_Ch2GT26  DBDT_Ch2GT27  DBDT_Ch2GT28  DBDT_Ch2GT29  DBDT_Ch2GT30  DBDT_Ch2GT31  DBDT_Ch2GT32  DBDT_STD_Ch1GT1  DBDT_STD_Ch1GT2  DBDT_STD_Ch1GT3  DBDT_STD_Ch1GT4  DBDT_STD_Ch1GT5  DBDT_STD_Ch1GT6  DBDT_STD_Ch1GT7  DBDT_STD_Ch1GT8  DBDT_STD_Ch1GT9  DBDT_STD_Ch1GT10  DBDT_STD_Ch1GT11  DBDT_STD_Ch1GT12  DBDT_STD_Ch1GT13  DBDT_STD_Ch1GT14  DBDT_STD_Ch1GT15  DBDT_STD_Ch1GT16  DBDT_STD_Ch1GT17  DBDT_STD_Ch1GT18  DBDT_STD_Ch1GT19  DBDT_STD_Ch1GT20  DBDT_STD_Ch1GT21  DBDT_STD_Ch1GT22  DBDT_STD_Ch1GT23  DBDT_STD_Ch1GT24  DBDT_STD_Ch2GT1  DBDT_STD_Ch2GT2  DBDT_STD_Ch2GT3  DBDT_STD_Ch2GT4  DBDT_STD_Ch2GT5  DBDT_STD_Ch2GT6  DBDT_STD_Ch2GT7  DBDT_STD_Ch2GT8  DBDT_STD_Ch2GT9  DBDT_STD_Ch2GT10  DBDT_STD_Ch2GT11  DBDT_STD_Ch2GT12  DBDT_STD_Ch2GT13  DBDT_STD_Ch2GT14  DBDT_STD_Ch2GT15  DBDT_STD_Ch2GT16  DBDT_STD_Ch2GT17  DBDT_STD_Ch2GT18  DBDT_STD_Ch2GT19  DBDT_STD_Ch2GT20  DBDT_STD_Ch2GT21  DBDT_STD_Ch2GT22  DBDT_STD_Ch2GT23  DBDT_STD_Ch2GT24  DBDT_STD_Ch2GT25  DBDT_STD_Ch2GT26  DBDT_STD_Ch2GT27  DBDT_STD_Ch2GT28  DBDT_STD_Ch2GT29  DBDT_STD_Ch2GT30  DBDT_STD_Ch2GT31  DBDT_STD_Ch2GT32  DBDT_INUSE_Ch1GT1  DBDT_INUSE_Ch1GT2  DBDT_INUSE_Ch1GT3  DBDT_INUSE_Ch1GT4  DBDT_INUSE_Ch1GT5  DBDT_INUSE_Ch1GT6  DBDT_INUSE_Ch1GT7  DBDT_INUSE_Ch1GT8  DBDT_INUSE_Ch1GT9  DBDT_INUSE_Ch1GT10  DBDT_INUSE_Ch1GT11  DBDT_INUSE_Ch1GT12  DBDT_INUSE_Ch1GT13  DBDT_INUSE_Ch1GT14  DBDT_INUSE_Ch1GT15  DBDT_INUSE_Ch1GT16  DBDT_INUSE_Ch1GT17  DBDT_INUSE_Ch1GT18  DBDT_INUSE_Ch1GT19  DBDT_INUSE_Ch1GT20  DBDT_INUSE_Ch1GT21  DBDT_INUSE_Ch1GT22  DBDT_INUSE_Ch1GT23  DBDT_INUSE_Ch1GT24  DBDT_INUSE_Ch2GT1  DBDT_INUSE_Ch2GT2  DBDT_INUSE_Ch2GT3  DBDT_INUSE_Ch2GT4  DBDT_INUSE_Ch2GT5  DBDT_INUSE_Ch2GT6  DBDT_INUSE_Ch2GT7  DBDT_INUSE_Ch2GT8  DBDT_INUSE_Ch2GT9  DBDT_INUSE_Ch2GT10  DBDT_INUSE_Ch2GT11  DBDT_INUSE_Ch2GT12  DBDT_INUSE_Ch2GT13  DBDT_INUSE_Ch2GT14  DBDT_INUSE_Ch2GT15  DBDT_INUSE_Ch2GT16  DBDT_INUSE_Ch2GT17  DBDT_INUSE_Ch2GT18  DBDT_INUSE_Ch2GT19  DBDT_INUSE_Ch2GT20  DBDT_INUSE_Ch2GT21  DBDT_INUSE_Ch2GT22  DBDT_INUSE_Ch2GT23  DBDT_INUSE_Ch2GT24  DBDT_INUSE_Ch2GT25  DBDT_INUSE_Ch2GT26  DBDT_INUSE_Ch2GT27  DBDT_INUSE_Ch2GT28  DBDT_INUSE_Ch2GT29  DBDT_INUSE_Ch2GT30  DBDT_INUSE_Ch2GT31  DBDT_INUSE_Ch2GT32\n",
      "  4.44554124070E+04   106301  614447.8    6676462     193.52           1           48            0.065        45.23            0.065   273.4       1.004   268.8       1.004              3      8.8      342        19         9999         9999         9999         9999         9999    4.623E-09    3.088E-09    2.147E-09    1.476E-09     1.033E-09     7.466E-10     5.361E-10     3.666E-10     2.335E-10     1.424E-10     8.858E-11     4.619E-11     2.461E-11     1.370E-11     1.311E-11     1.387E-11     4.018E-12    -1.346E-12     4.910E-12         9999         9999         9999         9999         9999         9999         9999         9999         9999          9999          9999          9999          9999          9999          9999          9999          9999          9999          9999          9999          9999          9999          9999          9999          9999          9999          9999          9999          9999          9999          9999          9999             9999             9999             9999             9999             9999        3.001E-02        3.003E-02        3.002E-02        3.002E-02         3.002E-02         3.002E-02         3.003E-02         3.002E-02         3.008E-02         3.038E-02         3.040E-02         3.100E-02         3.515E-02         6.823E-01         1.223E+00         6.934E-02         1.864E-01         1.500E-01         5.149E-02             9999             9999             9999             9999             9999             9999             9999             9999             9999              9999              9999              9999              9999              9999              9999              9999              9999              9999              9999              9999              9999              9999              9999              9999              9999              9999              9999              9999              9999              9999              9999              9999               9999               9999               9999               9999               9999                  1                  1                  1                  1                   1                   1                   1                   1                   1                   1                   0                   0                   0                   0                   0                   0                   0                   0                   0               9999               9999               9999               9999               9999               9999               9999               9999               9999                9999                9999                9999                9999                9999                9999                9999                9999                9999                9999                9999                9999                9999                9999                9999                9999                9999                9999                9999                9999                9999                9999                9999\n",
      "  4.44554124070E+04   106301  614447.8    6676462     193.52           2        47.72            0.065         44.9            0.065   273.4       1.004   268.8       1.004              3    112.5      342        16         9999         9999         9999         9999         9999         9999         9999         9999         9999          9999          9999          9999          9999          9999          9999          9999          9999          9999          9999          9999          9999          9999          9999          9999         9999         9999         9999         9999         9999         9999         9999         9999         9999          9999     6.207E-10     4.346E-10     2.983E-10     1.966E-10     1.250E-10     7.742E-11     4.744E-11     2.811E-11     1.556E-11          9999          9999          9999          9999          9999          9999     1.916E-13     8.825E-14     3.833E-14     3.417E-14    -1.807E-14     6.978E-14     4.269E-14             9999             9999             9999             9999             9999             9999             9999             9999             9999              9999              9999              9999              9999              9999              9999              9999              9999              9999              9999              9999              9999              9999              9999              9999             9999             9999             9999             9999             9999             9999             9999             9999             9999              9999         3.000E-02         3.000E-02         3.000E-02         3.000E-02         3.000E-02         3.000E-02         3.000E-02         3.002E-02         3.009E-02              9999              9999              9999              9999              9999              9999         2.372E+00         8.186E-02         9.881E-02         7.035E-01         1.610E+00         2.805E-01         4.179E-01               9999               9999               9999               9999               9999               9999               9999               9999               9999                9999                9999                9999                9999                9999                9999                9999                9999                9999                9999                9999                9999                9999                9999                9999               9999               9999               9999               9999               9999               9999               9999               9999               9999                9999                   1                   1                   1                   1                   1                   1                   1                   1                   0                9999                9999                9999                9999                9999                9999                   0                   0                   0                   0                   0                   0                   0\n",
      "  4.44554124190E+04   106301  614446.8  6676437.1     196.35           1        47.22            0.066        44.37            0.066   273.6       1.004   269.2       1.004              3      8.8      342        19         9999         9999         9999         9999         9999    4.484E-09    3.054E-09    2.156E-09    1.481E-09     1.037E-09     7.577E-10     5.568E-10     3.849E-10     2.423E-10     1.486E-10     9.155E-11     4.547E-11     2.597E-11     1.452E-11     1.697E-11     1.327E-11    -6.004E-12     2.194E-12     5.942E-12         9999         9999         9999         9999         9999         9999         9999         9999         9999          9999          9999          9999          9999          9999          9999          9999          9999          9999          9999          9999          9999          9999          9999          9999          9999          9999          9999          9999          9999          9999          9999          9999             9999             9999             9999             9999             9999        3.001E-02        3.003E-02        3.002E-02        3.003E-02         3.002E-02         3.001E-02         3.004E-02         3.006E-02         3.006E-02         3.031E-02         3.056E-02         3.111E-02         3.500E-02         6.824E-01         1.019E+00         5.895E-02         1.566E-01         1.448E-01         4.833E-02             9999             9999             9999             9999             9999             9999             9999             9999             9999              9999              9999              9999              9999              9999              9999              9999              9999              9999              9999              9999              9999              9999              9999              9999              9999              9999              9999              9999              9999              9999              9999              9999               9999               9999               9999               9999               9999                  1                  1                  1                  1                   1                   1                   1                   1                   1                   1                   0                   0                   0                   0                   0                   0                   0                   0                   0               9999               9999               9999               9999               9999               9999               9999               9999               9999                9999                9999                9999                9999                9999                9999                9999                9999                9999                9999                9999                9999                9999                9999                9999                9999                9999                9999                9999                9999                9999                9999                9999\n",
      "\n"
     ]
    }
   ],
   "source": [
    "print(d)"
   ]
  },
  {
   "cell_type": "code",
   "execution_count": null,
   "id": "e6f7554d",
   "metadata": {},
   "outputs": [],
   "source": [
    "\"{:.2f}\".format(50)"
   ]
  },
  {
   "cell_type": "code",
   "execution_count": null,
   "id": "1ac05fac",
   "metadata": {},
   "outputs": [],
   "source": []
  },
  {
   "cell_type": "code",
   "execution_count": 46,
   "id": "8e4898ec",
   "metadata": {},
   "outputs": [
    {
     "data": {
      "text/plain": [
       "'2.6401561855996726E-05'"
      ]
     },
     "execution_count": 46,
     "metadata": {},
     "output_type": "execute_result"
    }
   ],
   "source": [
    "import numpy as np\n",
    "\n",
    "str(np.random.random() * 2 * float(\"4.043E-05\")).upper()"
   ]
  },
  {
   "cell_type": "code",
   "execution_count": 43,
   "id": "b5e817aa",
   "metadata": {},
   "outputs": [
    {
     "data": {
      "text/plain": [
       "4.042999999999998e-05"
      ]
     },
     "execution_count": 43,
     "metadata": {},
     "output_type": "execute_result"
    }
   ],
   "source": [
    "10**np.log10(float(\"4.043E-05\"))"
   ]
  },
  {
   "cell_type": "code",
   "execution_count": 54,
   "id": "d1c2e687",
   "metadata": {},
   "outputs": [
    {
     "data": {
      "text/plain": [
       "'2.3568E-04'"
      ]
     },
     "execution_count": 54,
     "metadata": {},
     "output_type": "execute_result"
    }
   ],
   "source": [
    "'%.4E' % 0.000235678"
   ]
  },
  {
   "cell_type": "code",
   "execution_count": 20,
   "id": "cbc9a1c0",
   "metadata": {},
   "outputs": [
    {
     "data": {
      "text/plain": [
       "<re.Match object; span=(0, 5), match='1.2E4'>"
      ]
     },
     "execution_count": 20,
     "metadata": {},
     "output_type": "execute_result"
    }
   ],
   "source": [
    "re.match(r\"(^|\\s)[0-9.E+-]+\", \"1.2E4\")"
   ]
  },
  {
   "cell_type": "code",
   "execution_count": 24,
   "id": "0c2d0d02",
   "metadata": {},
   "outputs": [
    {
     "data": {
      "text/plain": [
       "['123', '45', '78']"
      ]
     },
     "execution_count": 24,
     "metadata": {},
     "output_type": "execute_result"
    }
   ],
   "source": [
    "re.findall(\"[0-9]+\", \"foo 123, 45 xx 78\")"
   ]
  },
  {
   "cell_type": "code",
   "execution_count": 64,
   "id": "d6411d5c",
   "metadata": {},
   "outputs": [
    {
     "name": "stdout",
     "output_type": "stream",
     "text": [
      "../tests/data/aarhus_workbench.6.6.0.2/SCI_1_Pro3_MOD_syn_example_SCI_inversion_export.xyz\n",
      "../tests/data/aarhus_workbench.6.6.0.2/RAW_export_example_averagde_data_export.xyz\n",
      "../tests/data/aarhus_workbench.6.6.0.2/SCI_1_Pro3_MOD_inv_example_SCI_inversion_export.xyz\n",
      "../tests/data/aarhus_workbench.6.6.0.2/SCI_1_Pro3_MOD_dat_example_SCI_inversion_export.xyz\n",
      "../tests/data/aarhus_workbench.6.6.0.2/AVG_export_example_averagde_data_export.xyz\n"
     ]
    }
   ],
   "source": [
    "basepath = \"../tests/data/aarhus_workbench.6.7.0.0\"\n",
    "for pathxyz in os.listdir(basepath):\n",
    "    if not pathxyz.endswith(\"xyz\"): continue\n",
    "    pathxyz = os.path.join(basepath, pathxyz)\n",
    "    print(pathxyz)\n",
    "    data=libaarhusxyz.XYZ(pathxyz)\n",
    "    pathdown = os.path.splitext(pathxyz)[0] + \".down\"\n",
    "    downfile.dump(data.model_dict, pathdown)\n",
    "    \n",
    "#parsed = libaarhusxyz.XYZ(\"../tests/data/aarhus_workbench.6.6.0.2/AVG_export_example_averagde_data_export.xyz\").model_dict\n",
    "#downfile.dump(parsed, \"../tests/data/aarhus_workbench.6.6.0.2/AVG_export_example_averagde_data_export.down\")"
   ]
  },
  {
   "cell_type": "code",
   "execution_count": null,
   "id": "0b27c41c",
   "metadata": {},
   "outputs": [],
   "source": []
  }
 ],
 "metadata": {
  "kernelspec": {
   "display_name": "libaarhusxyz",
   "language": "python",
   "name": "libaarhusxyz"
  },
  "language_info": {
   "codemirror_mode": {
    "name": "ipython",
    "version": 3
   },
   "file_extension": ".py",
   "mimetype": "text/x-python",
   "name": "python",
   "nbconvert_exporter": "python",
   "pygments_lexer": "ipython3",
   "version": "3.9.12"
  }
 },
 "nbformat": 4,
 "nbformat_minor": 5
}
