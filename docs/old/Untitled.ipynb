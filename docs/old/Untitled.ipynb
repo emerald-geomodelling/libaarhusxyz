{
 "cells": [
  {
   "cell_type": "code",
   "execution_count": 1,
   "id": "cabcae96",
   "metadata": {},
   "outputs": [],
   "source": [
    "import libaarhusxyz\n",
    "import os.path\n",
    "import pandas as pd\n",
    "import libaarhusxyz.normalizer"
   ]
  },
  {
   "cell_type": "code",
   "execution_count": 2,
   "id": "fcf8e3a1",
   "metadata": {},
   "outputs": [],
   "source": [
    "newbasepath = \"../examples-secret/newwb\"\n",
    "newfiles = [f for f in os.listdir(newbasepath) if f.endswith(\".xyz\")]\n",
    "new = libaarhusxyz.XYZ(os.path.join(newbasepath, 'SCI_1_Pro3_MOD_inv_example_SCI_inversion_export_NewWB.xyz'))\n",
    "new = libaarhusxyz.normalizer.normalize(new)\n",
    "\n",
    "oldbasepath = \"../examples-secret/oldwb\"\n",
    "oldfiles = [f for f in os.listdir(oldbasepath) if f.endswith(\".xyz\")]\n",
    "old = libaarhusxyz.XYZ(os.path.join(oldbasepath, 'SCI_1_Pro3_MOD_inv_example_SCI_inversion_export_oldWB.xyz'))\n",
    "old = libaarhusxyz.normalizer.normalize(old)\n"
   ]
  },
  {
   "cell_type": "code",
   "execution_count": 3,
   "id": "36fb07a8",
   "metadata": {},
   "outputs": [
    {
     "data": {
      "text/plain": [
       "../examples-secret/newwb/SCI_1_Pro3_MOD_inv_example_SCI_inversion_export_NewWB.xyz\n",
       "--------------------------------\n",
       "                                                                      0\n",
       "info                  Aarhus Workbench export file. File created: 07...\n",
       "wb version                                                      6.7.0.0\n",
       "workspace name        I:\\Shared drives\\PROJECTS\\Projects\\21019_NO_NV...\n",
       "node name(s)                                                 SCI_1_Pro3\n",
       "dummy                                                          -9999.99\n",
       "data unit                                                dB/dt [V/Am^4]\n",
       "data type                                                     DTSKYTEM2\n",
       "coordinate system                      WGS 84 UTM zone 32N (epsg:32632)\n",
       "source                ../examples-secret/newwb/SCI_1_Pro3_MOD_inv_ex...\n",
       "inversion type                                              Resistivity\n",
       "model unit                    Resistivity (Ohm-m) / conductivity (mS/m)\n",
       "model type                                                       Smooth\n",
       "number of layers                                                   30.0\n",
       "inversion data space                                         Logaritmic\n",
       "length unit                                                       Meter\n",
       "number of gates                                                    41.0\n",
       "gate times (s)        [8.44e-06, 1.043e-05, 1.294e-05, 1.643e-05, 2....\n",
       "inversion_type                                                      SCI\n",
       "projection                                                        32632\n",
       "\n",
       "Soundings: 15186\n",
       "No line_id column to distinguish lines.\n",
       "Maximum layer depth: 374.998\n",
       "Projection: 32632\n",
       "             x          y\n",
       "min  608860.13  6671309.5\n",
       "max  614533.63  6683501.0\n",
       "         Resistivity\n",
       "count  455580.000000\n",
       "mean      359.336300\n",
       "std       843.541121\n",
       "min         0.100200\n",
       "25%        32.320000\n",
       "50%        66.940000\n",
       "75%       272.600000\n",
       "max     20000.000000\n",
       "\n",
       "Layer data: z_top, doi_layer, resistivity, z_bottom, resistivity_variance_factor, sigma_i\n",
       "Layer params: layer, dep_top, dep_bot, dep_bot_std, thk_std, height"
      ]
     },
     "execution_count": 3,
     "metadata": {},
     "output_type": "execute_result"
    }
   ],
   "source": [
    "new"
   ]
  },
  {
   "cell_type": "code",
   "execution_count": 23,
   "id": "6a9e4974",
   "metadata": {},
   "outputs": [
    {
     "data": {
      "text/plain": [
       "set()"
      ]
     },
     "execution_count": 23,
     "metadata": {},
     "output_type": "execute_result"
    }
   ],
   "source": [
    "nkeys = set(new.model_info.keys())\n",
    "\n",
    "okeys = set(old.model_info.keys())\n",
    "\n",
    "okeys - nkeys"
   ]
  },
  {
   "cell_type": "code",
   "execution_count": 22,
   "id": "7b27ae0c",
   "metadata": {},
   "outputs": [
    {
     "data": {
      "text/plain": [
       "{'inversion data space', 'inversion type', 'model type'}"
      ]
     },
     "execution_count": 22,
     "metadata": {},
     "output_type": "execute_result"
    }
   ],
   "source": [
    "nkeys - okeys"
   ]
  },
  {
   "cell_type": "code",
   "execution_count": 6,
   "id": "8fbf83e6",
   "metadata": {},
   "outputs": [],
   "source": [
    "newcols = set(new.flightlines.columns)"
   ]
  },
  {
   "cell_type": "code",
   "execution_count": 7,
   "id": "946204bd",
   "metadata": {},
   "outputs": [],
   "source": [
    "oldcols = set(old.flightlines.columns)"
   ]
  },
  {
   "cell_type": "code",
   "execution_count": 8,
   "id": "e299c060",
   "metadata": {},
   "outputs": [
    {
     "data": {
      "text/plain": [
       "{'deltaalt',\n",
       " 'fid',\n",
       " 'invshift',\n",
       " 'invshiftstd',\n",
       " 'invtilt',\n",
       " 'invtiltstd',\n",
       " 'shift',\n",
       " 'tilt'}"
      ]
     },
     "execution_count": 8,
     "metadata": {},
     "output_type": "execute_result"
    }
   ],
   "source": [
    "oldcols - newcols"
   ]
  },
  {
   "cell_type": "code",
   "execution_count": 9,
   "id": "220c631f",
   "metadata": {},
   "outputs": [
    {
     "data": {
      "text/plain": [
       "{'altstd'}"
      ]
     },
     "execution_count": 9,
     "metadata": {},
     "output_type": "execute_result"
    }
   ],
   "source": [
    "newcols - oldcols"
   ]
  },
  {
   "cell_type": "code",
   "execution_count": 10,
   "id": "6b0342b5",
   "metadata": {},
   "outputs": [],
   "source": [
    "oldld = set(old.layer_data.keys())\n",
    "newld = set(new.layer_data.keys())"
   ]
  },
  {
   "cell_type": "code",
   "execution_count": 11,
   "id": "ffbe14c8",
   "metadata": {},
   "outputs": [
    {
     "data": {
      "text/plain": [
       "set()"
      ]
     },
     "execution_count": 11,
     "metadata": {},
     "output_type": "execute_result"
    }
   ],
   "source": [
    "newld - oldld"
   ]
  },
  {
   "cell_type": "code",
   "execution_count": 12,
   "id": "060ab22f",
   "metadata": {},
   "outputs": [
    {
     "data": {
      "text/plain": [
       "set()"
      ]
     },
     "execution_count": 12,
     "metadata": {},
     "output_type": "execute_result"
    }
   ],
   "source": [
    "oldld - newld"
   ]
  },
  {
   "cell_type": "code",
   "execution_count": 14,
   "id": "20975f17",
   "metadata": {},
   "outputs": [
    {
     "data": {
      "text/plain": [
       "Index(['layer', 'dep_top', 'dep_bot', 'dep_bot_std', 'thk_std', 'height'], dtype='object')"
      ]
     },
     "execution_count": 14,
     "metadata": {},
     "output_type": "execute_result"
    }
   ],
   "source": [
    "new.layer_params.columns"
   ]
  },
  {
   "cell_type": "code",
   "execution_count": 15,
   "id": "cdb3e57c",
   "metadata": {},
   "outputs": [
    {
     "data": {
      "text/plain": [
       "Index(['layer', 'dep_top', 'dep_bot', 'thk_std', 'dep_bot_std', 'height'], dtype='object')"
      ]
     },
     "execution_count": 15,
     "metadata": {},
     "output_type": "execute_result"
    }
   ],
   "source": [
    "old.layer_params.columns"
   ]
  },
  {
   "cell_type": "code",
   "execution_count": null,
   "id": "f07114c7",
   "metadata": {},
   "outputs": [],
   "source": []
  }
 ],
 "metadata": {
  "kernelspec": {
   "display_name": "libaarhusxyz",
   "language": "python",
   "name": "libaarhusxyz"
  },
  "language_info": {
   "codemirror_mode": {
    "name": "ipython",
    "version": 3
   },
   "file_extension": ".py",
   "mimetype": "text/x-python",
   "name": "python",
   "nbconvert_exporter": "python",
   "pygments_lexer": "ipython3",
   "version": "3.9.12"
  }
 },
 "nbformat": 4,
 "nbformat_minor": 5
}
