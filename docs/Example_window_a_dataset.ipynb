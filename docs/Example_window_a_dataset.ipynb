{
 "cells": [
  {
   "cell_type": "markdown",
   "id": "f1e6070b-4270-4a91-8815-dd06ab4d9e0f",
   "metadata": {},
   "source": [
    "# window a dataset"
   ]
  },
  {
   "cell_type": "code",
   "execution_count": 7,
   "id": "d4433034-14a4-47f7-acec-077ceb9ec7ad",
   "metadata": {},
   "outputs": [],
   "source": [
    "import os\n",
    "import numpy as np\n",
    "import libaarhusxyz"
   ]
  },
  {
   "cell_type": "code",
   "execution_count": 3,
   "id": "f7ac5801-a462-41a6-b4e4-a8b567153467",
   "metadata": {},
   "outputs": [
    {
     "name": "stderr",
     "output_type": "stream",
     "text": [
      "/Users/bbloss/EMeraldCodes/libaarhusxyz/libaarhusxyz/alc.py:7: ParserWarning: Falling back to the 'python' engine because the 'c' engine does not support regex separators (separators > 1 char and different from '\\s+' are interpreted as regex); you can avoid this warning by specifying engine='python'.\n",
      "  df = pd.read_csv(nameorfile, sep=\" *= *\", header=None).rename(columns={0:\"canonical_name\", 1:\"position\"})\n"
     ]
    }
   ],
   "source": [
    "gex_alc_xyz_path = \"<Path to folder with the data>\"\n",
    "\n",
    "gex_alc_xyz_basename = \"<basename of the xyz, alc, and gex files>\" # this assumes a common name for the 3 files\n",
    "\n",
    "gex_alc_xyz_basepath = os.path.join(gex_alc_xyz_path, gex_alc_xyz_basename)\n",
    "orig_gex_alc_xyz_basepath = gex_alc_xyz_basepath\n",
    "\n",
    "\n",
    "x = libaarhusxyz.XYZ(f\"{orig_gex_alc_xyz_basepath}.xyz\", alcfile=f\"{orig_gex_alc_xyz_basepath}.alc\", normalize=True)\n",
    "x.model_info[\"scalefactor\"] = 1e-12 # Unit in file is V/(Am**4), if data is in picoV, set to 1e-12 :)"
   ]
  },
  {
   "cell_type": "code",
   "execution_count": null,
   "id": "3effdc3f-cd87-491c-aaee-02225b1886b7",
   "metadata": {},
   "outputs": [],
   "source": [
    "x"
   ]
  },
  {
   "cell_type": "code",
   "execution_count": 9,
   "id": "01e3791a-79d1-455b-aa76-89c0c6a43e01",
   "metadata": {},
   "outputs": [
    {
     "name": "stdout",
     "output_type": "stream",
     "text": [
      "[500101, 500102, 500201, 500202, 500301, 500302, 500401, 500402, 500403, 500501, 500502, 500601, 500602, 500603, 500604, 500605, 500606, 500701, 500702, 500703, 500801, 500802, 500803, 500804, 500805, 500901, 500902, 500903, 501001, 501002, 501101, 501102, 501103, 501104, 501105, 501106, 501201, 501202, 501203, 501204, 501301, 501302, 501303, 501304, 501305, 501401, 501402, 501403, 501501, 501502, 501503, 501601, 501602, 501603, 501604, 501605, 501606, 501701, 501702, 501703, 501704, 501705, 501706, 501707, 501801, 501802, 501803, 501804, 501805, 501806, 501807, 501901, 501902, 501903, 501904, 501905, 501906, 501907, 501908, 502001, 502002, 502003, 502004, 502005, 502006, 502007, 502008, 502009, 502101, 502102, 502103, 502104, 502201, 502202, 502203, 502301, 502302, 502303, 502401, 502402, 502403, 502501, 502502, 502601, 502602, 502701, 502702, 600101, 600102, 600103, 600201, 600202, 600203, 600301, 600401, 600402, 600501, 600502, 600503, 600504, 600601, 600602, 600603, 600604, 600605, 600606, 600701, 600702, 600801, 600901, 601001, 601002, 601101, 601201, 601301, 601401, 601501, 601502, 601601, 601701, 601702, 601703, 601704, 601801, 601901, 602001, 602101, 602201, 602301]\n"
     ]
    }
   ],
   "source": [
    "lines_in_file = sorted(x.flightlines.title.unique())\n",
    "print(lines_in_file)"
   ]
  },
  {
   "cell_type": "code",
   "execution_count": 10,
   "id": "83f554f3-42e5-46f8-be4c-8a122d7a3449",
   "metadata": {},
   "outputs": [
    {
     "data": {
      "text/plain": [
       "array([500101, 500102, 500201, 500202, 500301])"
      ]
     },
     "execution_count": 10,
     "metadata": {},
     "output_type": "execute_result"
    }
   ],
   "source": [
    "lines = np.array(lines_in_file[0:5])\n",
    "lines"
   ]
  },
  {
   "cell_type": "code",
   "execution_count": 11,
   "id": "1798a5ef-0213-4298-a4f2-a38446ff2b11",
   "metadata": {},
   "outputs": [
    {
     "data": {
      "text/plain": [
       "0         False\n",
       "1         False\n",
       "2         False\n",
       "3         False\n",
       "4         False\n",
       "          ...  \n",
       "335025    False\n",
       "335026    False\n",
       "335027    False\n",
       "335028    False\n",
       "335029    False\n",
       "Name: title, Length: 335030, dtype: bool"
      ]
     },
     "execution_count": 11,
     "metadata": {},
     "output_type": "execute_result"
    }
   ],
   "source": [
    "filt = x.flightlines['title'].isin(lines)\n",
    "filt"
   ]
  },
  {
   "cell_type": "code",
   "execution_count": 13,
   "id": "3c974a02-654d-4f64-8628-7942faf504d3",
   "metadata": {},
   "outputs": [],
   "source": [
    "x.flightlines = x.flightlines.loc[filt].reset_index(drop=True)\n",
    "\n",
    "for key, value in x.layer_data.items():\n",
    "    x.layer_data[key] = value.loc[filt].reset_index(drop=True)"
   ]
  },
  {
   "cell_type": "code",
   "execution_count": null,
   "id": "91a62431-b866-4395-908e-cc44a1760685",
   "metadata": {},
   "outputs": [],
   "source": [
    "x"
   ]
  },
  {
   "cell_type": "code",
   "execution_count": 15,
   "id": "b4fc180b-c167-4ab7-9ff0-29a672f54eff",
   "metadata": {},
   "outputs": [],
   "source": [
    "gex_alc_xyz_basepath = f\"{orig_gex_alc_xyz_basepath}_filteredLines\"\n",
    "\n",
    "x.dump(nameorfile = f\"{gex_alc_xyz_basepath}.xyz\", alcfile=f\"{gex_alc_xyz_basepath}.alc\")"
   ]
  },
  {
   "cell_type": "code",
   "execution_count": null,
   "id": "dcf30e7b-4ed1-4da6-8fa8-655ea53de8c7",
   "metadata": {},
   "outputs": [],
   "source": []
  }
 ],
 "metadata": {
  "kernelspec": {
   "display_name": "00-pipeline_processing_simpeg-py3.10.13-20240822",
   "language": "python",
   "name": "00-pipeline_processing_simpeg-py3.10.13-20240822"
  },
  "language_info": {
   "codemirror_mode": {
    "name": "ipython",
    "version": 3
   },
   "file_extension": ".py",
   "mimetype": "text/x-python",
   "name": "python",
   "nbconvert_exporter": "python",
   "pygments_lexer": "ipython3",
   "version": "3.10.13"
  }
 },
 "nbformat": 4,
 "nbformat_minor": 5
}
